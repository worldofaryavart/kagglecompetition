{
 "cells": [
  {
   "cell_type": "code",
   "execution_count": 1,
   "id": "ac21c32c",
   "metadata": {
    "_cell_guid": "b1076dfc-b9ad-4769-8c92-a6c4dae69d19",
    "_uuid": "8f2839f25d086af736a60e9eeb907d3b93b6e0e5",
    "execution": {
     "iopub.execute_input": "2024-08-14T11:55:44.722523Z",
     "iopub.status.busy": "2024-08-14T11:55:44.722119Z",
     "iopub.status.idle": "2024-08-14T11:55:45.495992Z",
     "shell.execute_reply": "2024-08-14T11:55:45.495137Z"
    },
    "papermill": {
     "duration": 0.786225,
     "end_time": "2024-08-14T11:55:45.498119",
     "exception": false,
     "start_time": "2024-08-14T11:55:44.711894",
     "status": "completed"
    },
    "tags": []
   },
   "outputs": [
    {
     "name": "stdout",
     "output_type": "stream",
     "text": [
      "/kaggle/input/heartbeat/ptbdb_abnormal.csv\n",
      "/kaggle/input/heartbeat/ptbdb_normal.csv\n",
      "/kaggle/input/heartbeat/mitbih_test.csv\n",
      "/kaggle/input/heartbeat/mitbih_train.csv\n"
     ]
    }
   ],
   "source": [
    "import numpy as np # linear algebra\n",
    "import pandas as pd # data processing, CSV file I/O (e.g. pd.read_csv)\n",
    "\n",
    "import os\n",
    "for dirname, _, filenames in os.walk('/kaggle/input'):\n",
    "    for filename in filenames:\n",
    "        print(os.path.join(dirname, filename))"
   ]
  },
  {
   "cell_type": "code",
   "execution_count": 2,
   "id": "742d73f1",
   "metadata": {
    "execution": {
     "iopub.execute_input": "2024-08-14T11:55:45.514888Z",
     "iopub.status.busy": "2024-08-14T11:55:45.514286Z",
     "iopub.status.idle": "2024-08-14T11:55:50.147973Z",
     "shell.execute_reply": "2024-08-14T11:55:50.147167Z"
    },
    "papermill": {
     "duration": 4.644405,
     "end_time": "2024-08-14T11:55:50.150284",
     "exception": false,
     "start_time": "2024-08-14T11:55:45.505879",
     "status": "completed"
    },
    "tags": []
   },
   "outputs": [],
   "source": [
    "import pandas as pd\n",
    "import numpy as np\n",
    "import torch\n",
    "from torch.utils.data import Dataset, DataLoader\n",
    "from sklearn.model_selection import train_test_split"
   ]
  },
  {
   "cell_type": "code",
   "execution_count": 3,
   "id": "b3c28b87",
   "metadata": {
    "execution": {
     "iopub.execute_input": "2024-08-14T11:55:50.167098Z",
     "iopub.status.busy": "2024-08-14T11:55:50.166681Z",
     "iopub.status.idle": "2024-08-14T11:55:50.170990Z",
     "shell.execute_reply": "2024-08-14T11:55:50.170223Z"
    },
    "papermill": {
     "duration": 0.01471,
     "end_time": "2024-08-14T11:55:50.172782",
     "exception": false,
     "start_time": "2024-08-14T11:55:50.158072",
     "status": "completed"
    },
    "tags": []
   },
   "outputs": [],
   "source": [
    "ptbdb_abnormal = '/kaggle/input/heartbeat/ptbdb_abnormal.csv'\n",
    "ptbdb_normal = '/kaggle/input/heartbeat/ptbdb_normal.csv'\n",
    "mitbih_test = '/kaggle/input/heartbeat/mitbih_test.csv'\n",
    "mitbih_train = '/kaggle/input/heartbeat/mitbih_train.csv'"
   ]
  },
  {
   "cell_type": "code",
   "execution_count": 4,
   "id": "2a3b5da4",
   "metadata": {
    "execution": {
     "iopub.execute_input": "2024-08-14T11:55:50.188541Z",
     "iopub.status.busy": "2024-08-14T11:55:50.188288Z",
     "iopub.status.idle": "2024-08-14T11:56:03.411948Z",
     "shell.execute_reply": "2024-08-14T11:56:03.410960Z"
    },
    "papermill": {
     "duration": 13.234258,
     "end_time": "2024-08-14T11:56:03.414396",
     "exception": false,
     "start_time": "2024-08-14T11:55:50.180138",
     "status": "completed"
    },
    "tags": []
   },
   "outputs": [],
   "source": [
    "ptbdb_normal = pd.read_csv(ptbdb_normal, header=None)\n",
    "ptbdb_abnormal = pd.read_csv(ptbdb_abnormal, header=None)\n",
    "mitbih_train = pd.read_csv(mitbih_train, header=None)\n",
    "mitbih_test = pd.read_csv(mitbih_test, header=None)"
   ]
  },
  {
   "cell_type": "code",
   "execution_count": 5,
   "id": "a63f099d",
   "metadata": {
    "execution": {
     "iopub.execute_input": "2024-08-14T11:56:03.431144Z",
     "iopub.status.busy": "2024-08-14T11:56:03.430814Z",
     "iopub.status.idle": "2024-08-14T11:56:03.531296Z",
     "shell.execute_reply": "2024-08-14T11:56:03.530372Z"
    },
    "papermill": {
     "duration": 0.111962,
     "end_time": "2024-08-14T11:56:03.534214",
     "exception": false,
     "start_time": "2024-08-14T11:56:03.422252",
     "status": "completed"
    },
    "tags": []
   },
   "outputs": [
    {
     "name": "stdout",
     "output_type": "stream",
     "text": [
      "PTBDB Abnormal:\n",
      "<class 'pandas.core.frame.DataFrame'>\n",
      "RangeIndex: 10506 entries, 0 to 10505\n",
      "Columns: 188 entries, 0 to 187\n",
      "dtypes: float64(188)\n",
      "memory usage: 15.1 MB\n",
      "None\n",
      "        0         1         2         3         4         5         6    \\\n",
      "0  0.932233  0.869679  0.886186  0.929626  0.908775  0.933970  0.801043   \n",
      "1  1.000000  0.606941  0.384181  0.254237  0.223567  0.276836  0.253430   \n",
      "2  1.000000  0.951613  0.923963  0.853303  0.791859  0.734255  0.672043   \n",
      "3  0.977819  0.899261  0.230129  0.032348  0.142329  0.223660  0.328096   \n",
      "4  0.935618  0.801661  0.805815  1.000000  0.722741  0.480789  0.454829   \n",
      "\n",
      "        7         8         9    ...  178  179  180  181  182  183  184  185  \\\n",
      "0  0.749783  0.687229  0.635100  ...  0.0  0.0  0.0  0.0  0.0  0.0  0.0  0.0   \n",
      "1  0.184826  0.153349  0.121872  ...  0.0  0.0  0.0  0.0  0.0  0.0  0.0  0.0   \n",
      "2  0.685100  0.670507  0.667435  ...  0.0  0.0  0.0  0.0  0.0  0.0  0.0  0.0   \n",
      "3  0.367837  0.381701  0.389094  ...  0.0  0.0  0.0  0.0  0.0  0.0  0.0  0.0   \n",
      "4  0.319834  0.266874  0.308411  ...  0.0  0.0  0.0  0.0  0.0  0.0  0.0  0.0   \n",
      "\n",
      "   186  187  \n",
      "0  0.0  1.0  \n",
      "1  0.0  1.0  \n",
      "2  0.0  1.0  \n",
      "3  0.0  1.0  \n",
      "4  0.0  1.0  \n",
      "\n",
      "[5 rows x 188 columns]\n",
      "\n",
      "PTBDB Normal:\n",
      "<class 'pandas.core.frame.DataFrame'>\n",
      "RangeIndex: 4046 entries, 0 to 4045\n",
      "Columns: 188 entries, 0 to 187\n",
      "dtypes: float64(188)\n",
      "memory usage: 5.8 MB\n",
      "None\n",
      "        0         1         2         3         4         5         6    \\\n",
      "0  1.000000  0.900324  0.358590  0.051459  0.046596  0.126823  0.133306   \n",
      "1  1.000000  0.794681  0.375387  0.116883  0.000000  0.171923  0.283859   \n",
      "2  0.909029  0.791482  0.423169  0.186712  0.000000  0.007836  0.063032   \n",
      "3  1.000000  0.478893  0.056760  0.064176  0.081289  0.072732  0.055619   \n",
      "4  1.000000  0.867238  0.201360  0.099349  0.141336  0.120934  0.108516   \n",
      "\n",
      "        7         8         9    ...  178  179  180  181  182  183  184  185  \\\n",
      "0  0.119125  0.110616  0.113047  ...  0.0  0.0  0.0  0.0  0.0  0.0  0.0  0.0   \n",
      "1  0.293754  0.325912  0.345083  ...  0.0  0.0  0.0  0.0  0.0  0.0  0.0  0.0   \n",
      "2  0.077002  0.074957  0.077342  ...  0.0  0.0  0.0  0.0  0.0  0.0  0.0  0.0   \n",
      "3  0.048774  0.054478  0.041643  ...  0.0  0.0  0.0  0.0  0.0  0.0  0.0  0.0   \n",
      "4  0.096393  0.093436  0.100828  ...  0.0  0.0  0.0  0.0  0.0  0.0  0.0  0.0   \n",
      "\n",
      "   186  187  \n",
      "0  0.0  0.0  \n",
      "1  0.0  0.0  \n",
      "2  0.0  0.0  \n",
      "3  0.0  0.0  \n",
      "4  0.0  0.0  \n",
      "\n",
      "[5 rows x 188 columns]\n",
      "\n",
      "MIT-BIH Test:\n",
      "<class 'pandas.core.frame.DataFrame'>\n",
      "RangeIndex: 21892 entries, 0 to 21891\n",
      "Columns: 188 entries, 0 to 187\n",
      "dtypes: float64(188)\n",
      "memory usage: 31.4 MB\n",
      "None\n",
      "        0         1         2         3         4         5         6    \\\n",
      "0  1.000000  0.758264  0.111570  0.000000  0.080579  0.078512  0.066116   \n",
      "1  0.908425  0.783883  0.531136  0.362637  0.366300  0.344322  0.333333   \n",
      "2  0.730088  0.212389  0.000000  0.119469  0.101770  0.101770  0.110619   \n",
      "3  1.000000  0.910417  0.681250  0.472917  0.229167  0.068750  0.000000   \n",
      "4  0.570470  0.399329  0.238255  0.147651  0.000000  0.003356  0.040268   \n",
      "\n",
      "        7         8         9    ...  178  179  180  181  182  183  184  185  \\\n",
      "0  0.049587  0.047521  0.035124  ...  0.0  0.0  0.0  0.0  0.0  0.0  0.0  0.0   \n",
      "1  0.307692  0.296703  0.300366  ...  0.0  0.0  0.0  0.0  0.0  0.0  0.0  0.0   \n",
      "2  0.123894  0.115044  0.132743  ...  0.0  0.0  0.0  0.0  0.0  0.0  0.0  0.0   \n",
      "3  0.004167  0.014583  0.054167  ...  0.0  0.0  0.0  0.0  0.0  0.0  0.0  0.0   \n",
      "4  0.080537  0.070470  0.090604  ...  0.0  0.0  0.0  0.0  0.0  0.0  0.0  0.0   \n",
      "\n",
      "   186  187  \n",
      "0  0.0  0.0  \n",
      "1  0.0  0.0  \n",
      "2  0.0  0.0  \n",
      "3  0.0  0.0  \n",
      "4  0.0  0.0  \n",
      "\n",
      "[5 rows x 188 columns]\n",
      "\n",
      "MIT-BIH Train:\n",
      "<class 'pandas.core.frame.DataFrame'>\n",
      "RangeIndex: 87554 entries, 0 to 87553\n",
      "Columns: 188 entries, 0 to 187\n",
      "dtypes: float64(188)\n",
      "memory usage: 125.6 MB\n",
      "None\n",
      "        0         1         2         3         4         5         6    \\\n",
      "0  0.977941  0.926471  0.681373  0.245098  0.154412  0.191176  0.151961   \n",
      "1  0.960114  0.863248  0.461538  0.196581  0.094017  0.125356  0.099715   \n",
      "2  1.000000  0.659459  0.186486  0.070270  0.070270  0.059459  0.056757   \n",
      "3  0.925414  0.665746  0.541436  0.276243  0.196133  0.077348  0.071823   \n",
      "4  0.967136  1.000000  0.830986  0.586854  0.356808  0.248826  0.145540   \n",
      "\n",
      "        7         8         9    ...  178  179  180  181  182  183  184  185  \\\n",
      "0  0.085784  0.058824  0.049020  ...  0.0  0.0  0.0  0.0  0.0  0.0  0.0  0.0   \n",
      "1  0.088319  0.074074  0.082621  ...  0.0  0.0  0.0  0.0  0.0  0.0  0.0  0.0   \n",
      "2  0.043243  0.054054  0.045946  ...  0.0  0.0  0.0  0.0  0.0  0.0  0.0  0.0   \n",
      "3  0.060773  0.066298  0.058011  ...  0.0  0.0  0.0  0.0  0.0  0.0  0.0  0.0   \n",
      "4  0.089202  0.117371  0.150235  ...  0.0  0.0  0.0  0.0  0.0  0.0  0.0  0.0   \n",
      "\n",
      "   186  187  \n",
      "0  0.0  0.0  \n",
      "1  0.0  0.0  \n",
      "2  0.0  0.0  \n",
      "3  0.0  0.0  \n",
      "4  0.0  0.0  \n",
      "\n",
      "[5 rows x 188 columns]\n"
     ]
    }
   ],
   "source": [
    "# Display basic information and first few rows\n",
    "print(\"PTBDB Abnormal:\")\n",
    "print(ptbdb_abnormal.info())\n",
    "print(ptbdb_abnormal.head())\n",
    "\n",
    "print(\"\\nPTBDB Normal:\")\n",
    "print(ptbdb_normal.info())\n",
    "print(ptbdb_normal.head())\n",
    "\n",
    "print(\"\\nMIT-BIH Test:\")\n",
    "print(mitbih_test.info())\n",
    "print(mitbih_test.head())\n",
    "\n",
    "print(\"\\nMIT-BIH Train:\")\n",
    "print(mitbih_train.info())\n",
    "print(mitbih_train.head())"
   ]
  },
  {
   "cell_type": "code",
   "execution_count": 6,
   "id": "902bc7dd",
   "metadata": {
    "execution": {
     "iopub.execute_input": "2024-08-14T11:56:03.552537Z",
     "iopub.status.busy": "2024-08-14T11:56:03.551863Z",
     "iopub.status.idle": "2024-08-14T11:56:03.566352Z",
     "shell.execute_reply": "2024-08-14T11:56:03.565313Z"
    },
    "papermill": {
     "duration": 0.025715,
     "end_time": "2024-08-14T11:56:03.568325",
     "exception": false,
     "start_time": "2024-08-14T11:56:03.542610",
     "status": "completed"
    },
    "tags": []
   },
   "outputs": [
    {
     "name": "stdout",
     "output_type": "stream",
     "text": [
      "PTBDB Abnormal Class Distribution:\n",
      "187\n",
      "1.0    10506\n",
      "Name: count, dtype: int64\n",
      "PTBDB Normal Class Distribution:\n",
      "187\n",
      "0.0    4046\n",
      "Name: count, dtype: int64\n",
      "MIT-BIH Train class Distribution:\n",
      "187\n",
      "0.0    72471\n",
      "4.0     6431\n",
      "2.0     5788\n",
      "1.0     2223\n",
      "3.0      641\n",
      "Name: count, dtype: int64\n",
      "MIT-BIH Test Class Distribution: \n",
      "187\n",
      "0.0    18118\n",
      "4.0     1608\n",
      "2.0     1448\n",
      "1.0      556\n",
      "3.0      162\n",
      "Name: count, dtype: int64\n"
     ]
    }
   ],
   "source": [
    "print(\"PTBDB Abnormal Class Distribution:\")\n",
    "print(ptbdb_abnormal.iloc[:, -1].value_counts())\n",
    "\n",
    "print(\"PTBDB Normal Class Distribution:\")\n",
    "print(ptbdb_normal.iloc[:, -1].value_counts())\n",
    "\n",
    "print(\"MIT-BIH Train class Distribution:\")\n",
    "print(mitbih_train.iloc[:, -1].value_counts())\n",
    "\n",
    "print(\"MIT-BIH Test Class Distribution: \")\n",
    "print(mitbih_test.iloc[:, -1].value_counts())"
   ]
  },
  {
   "cell_type": "code",
   "execution_count": 7,
   "id": "66443126",
   "metadata": {
    "execution": {
     "iopub.execute_input": "2024-08-14T11:56:03.585598Z",
     "iopub.status.busy": "2024-08-14T11:56:03.585024Z",
     "iopub.status.idle": "2024-08-14T11:56:03.593464Z",
     "shell.execute_reply": "2024-08-14T11:56:03.592635Z"
    },
    "papermill": {
     "duration": 0.019291,
     "end_time": "2024-08-14T11:56:03.595447",
     "exception": false,
     "start_time": "2024-08-14T11:56:03.576156",
     "status": "completed"
    },
    "tags": []
   },
   "outputs": [
    {
     "data": {
      "text/plain": [
       "0      0.932233\n",
       "1      0.869679\n",
       "2      0.886186\n",
       "3      0.929626\n",
       "4      0.908775\n",
       "         ...   \n",
       "182    0.000000\n",
       "183    0.000000\n",
       "184    0.000000\n",
       "185    0.000000\n",
       "186    0.000000\n",
       "Name: 0, Length: 187, dtype: float64"
      ]
     },
     "execution_count": 7,
     "metadata": {},
     "output_type": "execute_result"
    }
   ],
   "source": [
    "ptbdb_abnormal.iloc[0, :-1]"
   ]
  },
  {
   "cell_type": "code",
   "execution_count": 8,
   "id": "98a222fc",
   "metadata": {
    "execution": {
     "iopub.execute_input": "2024-08-14T11:56:03.613763Z",
     "iopub.status.busy": "2024-08-14T11:56:03.613089Z",
     "iopub.status.idle": "2024-08-14T11:56:04.769631Z",
     "shell.execute_reply": "2024-08-14T11:56:04.768711Z"
    },
    "papermill": {
     "duration": 1.168633,
     "end_time": "2024-08-14T11:56:04.771992",
     "exception": false,
     "start_time": "2024-08-14T11:56:03.603359",
     "status": "completed"
    },
    "tags": []
   },
   "outputs": [
    {
     "data": {
      "image/png": "[encoded data removed]",
      "text/plain": [
       "<Figure size 1000x400 with 1 Axes>"
      ]
     },
     "metadata": {},
     "output_type": "display_data"
    },
    {
     "data": {
      "image/png": "[encoded data removed]",
      "text/plain": [
       "<Figure size 1000x400 with 1 Axes>"
      ]
     },
     "metadata": {},
     "output_type": "display_data"
    },
    {
     "data": {
      "image/png": "[encoded data removed]",
      "text/plain": [
       "<Figure size 1000x400 with 1 Axes>"
      ]
     },
     "metadata": {},
     "output_type": "display_data"
    },
    {
     "data": {
      "image/png": "[encoded data removed]",
      "text/plain": [
       "<Figure size 1000x400 with 1 Axes>"
      ]
     },
     "metadata": {},
     "output_type": "display_data"
    }
   ],
   "source": [
    "import matplotlib.pyplot as plt\n",
    "\n",
    "def plot_ecg(signal, title):\n",
    "    plt.figure(figsize = (10, 4))\n",
    "    plt.plot(signal)\n",
    "    plt.title(title)\n",
    "    plt.xlabel('Time')\n",
    "    plt.ylabel('Amplitude')\n",
    "    plt.grid(True)\n",
    "    plt.show()\n",
    "    \n",
    "# Plotting a few samples from each class\n",
    "plot_ecg(ptbdb_abnormal.iloc[0, :-1], 'PTBDB Abnormal ECG Signal')\n",
    "plot_ecg(ptbdb_normal.iloc[0, :-1], 'PTBDB Normal ECG Signal')\n",
    "plot_ecg(mitbih_train[mitbih_train[187] == 0].iloc[0, :-1],'MIT-BIH Normal ECG Signal')\n",
    "plot_ecg(mitbih_train[mitbih_train[187] == 1].iloc[0, :-1], 'MIT-BIH Class 1 ECG Signal')\n"
   ]
  },
  {
   "cell_type": "code",
   "execution_count": 9,
   "id": "c5e218a2",
   "metadata": {
    "execution": {
     "iopub.execute_input": "2024-08-14T11:56:04.793561Z",
     "iopub.status.busy": "2024-08-14T11:56:04.793259Z",
     "iopub.status.idle": "2024-08-14T11:56:04.844175Z",
     "shell.execute_reply": "2024-08-14T11:56:04.843276Z"
    },
    "papermill": {
     "duration": 0.064129,
     "end_time": "2024-08-14T11:56:04.846292",
     "exception": false,
     "start_time": "2024-08-14T11:56:04.782163",
     "status": "completed"
    },
    "tags": []
   },
   "outputs": [
    {
     "data": {
      "text/plain": [
       "15083"
      ]
     },
     "execution_count": 9,
     "metadata": {},
     "output_type": "execute_result"
    }
   ],
   "source": [
    "majority = mitbih_train[mitbih_train[187] == 0]\n",
    "minority = mitbih_train[mitbih_train[187] != 0]\n",
    "len(minority)"
   ]
  },
  {
   "cell_type": "code",
   "execution_count": 10,
   "id": "305edc0e",
   "metadata": {
    "execution": {
     "iopub.execute_input": "2024-08-14T11:56:04.867899Z",
     "iopub.status.busy": "2024-08-14T11:56:04.867370Z",
     "iopub.status.idle": "2024-08-14T11:56:05.035537Z",
     "shell.execute_reply": "2024-08-14T11:56:05.034608Z"
    },
    "papermill": {
     "duration": 0.181063,
     "end_time": "2024-08-14T11:56:05.037616",
     "exception": false,
     "start_time": "2024-08-14T11:56:04.856553",
     "status": "completed"
    },
    "tags": []
   },
   "outputs": [
    {
     "name": "stdout",
     "output_type": "stream",
     "text": [
      "187\n",
      "0.0    72471\n",
      "4.0    30962\n",
      "2.0    27631\n",
      "1.0    10815\n",
      "3.0     3063\n",
      "Name: count, dtype: int64\n"
     ]
    }
   ],
   "source": [
    "from sklearn.utils import resample \n",
    "\n",
    "#separating majority and minority classes\n",
    "majority = mitbih_train[mitbih_train[187] == 0]\n",
    "minority = mitbih_train[mitbih_train[187] != 0]\n",
    "\n",
    "minority_upsampled = resample(minority, \n",
    "                             replace = True,\n",
    "                             n_samples = len(majority),\n",
    "                             random_state = 123)\n",
    "\n",
    "mitbih_train_upsampled = pd.concat([majority, minority_upsampled])\n",
    "\n",
    "print(mitbih_train_upsampled[187].value_counts())"
   ]
  },
  {
   "cell_type": "code",
   "execution_count": 11,
   "id": "b28419ed",
   "metadata": {
    "execution": {
     "iopub.execute_input": "2024-08-14T11:56:05.059676Z",
     "iopub.status.busy": "2024-08-14T11:56:05.059360Z",
     "iopub.status.idle": "2024-08-14T11:56:05.064864Z",
     "shell.execute_reply": "2024-08-14T11:56:05.064020Z"
    },
    "papermill": {
     "duration": 0.018473,
     "end_time": "2024-08-14T11:56:05.066683",
     "exception": false,
     "start_time": "2024-08-14T11:56:05.048210",
     "status": "completed"
    },
    "tags": []
   },
   "outputs": [
    {
     "data": {
      "text/plain": [
       "(144942, 188)"
      ]
     },
     "execution_count": 11,
     "metadata": {},
     "output_type": "execute_result"
    }
   ],
   "source": [
    "mitbih_train_upsampled.shape"
   ]
  },
  {
   "cell_type": "code",
   "execution_count": 12,
   "id": "e97a715c",
   "metadata": {
    "execution": {
     "iopub.execute_input": "2024-08-14T11:56:05.088397Z",
     "iopub.status.busy": "2024-08-14T11:56:05.087803Z",
     "iopub.status.idle": "2024-08-14T11:56:05.369678Z",
     "shell.execute_reply": "2024-08-14T11:56:05.368685Z"
    },
    "papermill": {
     "duration": 0.294997,
     "end_time": "2024-08-14T11:56:05.371932",
     "exception": false,
     "start_time": "2024-08-14T11:56:05.076935",
     "status": "completed"
    },
    "tags": []
   },
   "outputs": [
    {
     "name": "stdout",
     "output_type": "stream",
     "text": [
      "        0         1         2         3         4         5         6    \\\n",
      "0  0.977941  0.926471  0.681373  0.245098  0.154412  0.191176  0.151961   \n",
      "1  0.960114  0.863248  0.461538  0.196581  0.094017  0.125356  0.099715   \n",
      "2  1.000000  0.659459  0.186486  0.070270  0.070270  0.059459  0.056757   \n",
      "3  0.925414  0.665746  0.541436  0.276243  0.196133  0.077348  0.071823   \n",
      "4  0.967136  1.000000  0.830986  0.586854  0.356808  0.248826  0.145540   \n",
      "\n",
      "        7         8         9    ...  178  179  180  181  182  183  184  185  \\\n",
      "0  0.085784  0.058824  0.049020  ...  0.0  0.0  0.0  0.0  0.0  0.0  0.0  0.0   \n",
      "1  0.088319  0.074074  0.082621  ...  0.0  0.0  0.0  0.0  0.0  0.0  0.0  0.0   \n",
      "2  0.043243  0.054054  0.045946  ...  0.0  0.0  0.0  0.0  0.0  0.0  0.0  0.0   \n",
      "3  0.060773  0.066298  0.058011  ...  0.0  0.0  0.0  0.0  0.0  0.0  0.0  0.0   \n",
      "4  0.089202  0.117371  0.150235  ...  0.0  0.0  0.0  0.0  0.0  0.0  0.0  0.0   \n",
      "\n",
      "   186  187  \n",
      "0  0.0  0.0  \n",
      "1  0.0  0.0  \n",
      "2  0.0  0.0  \n",
      "3  0.0  0.0  \n",
      "4  0.0  0.0  \n",
      "\n",
      "[5 rows x 188 columns]\n"
     ]
    }
   ],
   "source": [
    "from sklearn.preprocessing import MinMaxScaler\n",
    "\n",
    "scaler = MinMaxScaler()\n",
    "\n",
    "X_train = mitbih_train_upsampled.drop(columns = [187])\n",
    "y_train = mitbih_train_upsampled[187]\n",
    "\n",
    "X_train_scaled = scaler.fit_transform(X_train)\n",
    "\n",
    "mitbih_train_scaled = pd.DataFrame(X_train_scaled)\n",
    "mitbih_train_scaled[187] = y_train.values\n",
    "\n",
    "print(mitbih_train_scaled.head())"
   ]
  },
  {
   "cell_type": "code",
   "execution_count": 13,
   "id": "15c8630d",
   "metadata": {
    "execution": {
     "iopub.execute_input": "2024-08-14T11:56:05.394995Z",
     "iopub.status.busy": "2024-08-14T11:56:05.394177Z",
     "iopub.status.idle": "2024-08-14T11:56:05.658489Z",
     "shell.execute_reply": "2024-08-14T11:56:05.657563Z"
    },
    "papermill": {
     "duration": 0.277931,
     "end_time": "2024-08-14T11:56:05.660725",
     "exception": false,
     "start_time": "2024-08-14T11:56:05.382794",
     "status": "completed"
    },
    "tags": []
   },
   "outputs": [
    {
     "name": "stdout",
     "output_type": "stream",
     "text": [
      "Training set shape: (115953, 187) (115953,)\n",
      "Validation set shape: (28989, 187) (28989,)\n"
     ]
    }
   ],
   "source": [
    "from sklearn.model_selection import train_test_split\n",
    "X = mitbih_train_scaled.drop(columns = [187])\n",
    "y = mitbih_train_scaled[187]\n",
    "\n",
    "X_train, X_val, y_train, y_val = train_test_split(X, y, test_size = 0.2, random_state =42)\n",
    "\n",
    "print(\"Training set shape:\", X_train.shape, y_train.shape)\n",
    "print(\"Validation set shape:\", X_val.shape, y_val.shape)"
   ]
  },
  {
   "cell_type": "code",
   "execution_count": 14,
   "id": "c17d01bf",
   "metadata": {
    "execution": {
     "iopub.execute_input": "2024-08-14T11:56:05.683476Z",
     "iopub.status.busy": "2024-08-14T11:56:05.683177Z",
     "iopub.status.idle": "2024-08-14T11:56:05.756471Z",
     "shell.execute_reply": "2024-08-14T11:56:05.755684Z"
    },
    "papermill": {
     "duration": 0.087216,
     "end_time": "2024-08-14T11:56:05.758834",
     "exception": false,
     "start_time": "2024-08-14T11:56:05.671618",
     "status": "completed"
    },
    "tags": []
   },
   "outputs": [],
   "source": [
    "import torch\n",
    "from torch.utils.data import TensorDataset, DataLoader\n",
    "import numpy as np\n",
    "\n",
    "X_train = X_train.to_numpy() if isinstance(X_train, (pd.DataFrame, pd.Series)) else X_train\n",
    "y_train = y_train.to_numpy() if isinstance(y_train, (pd.DataFrame, pd.Series)) else y_train\n",
    "X_val = X_val.to_numpy() if isinstance(X_val, (pd.DataFrame, pd.Series)) else X_val\n",
    "y_val = y_val.to_numpy() if isinstance(y_val, (pd.DataFrame, pd.Series)) else y_val\n",
    "\n",
    "if X_train.ndim == 1:\n",
    "    X_train = np.expand_dims(X_train, axis=1)\n",
    "if X_val.ndim == 1:\n",
    "    X_val = np.expand_dims(X_val, axis=1)\n",
    "\n",
    "train_inputs = torch.tensor(X_train, dtype=torch.float32)\n",
    "train_labels = torch.tensor(y_train, dtype=torch.long)\n",
    "\n",
    "val_inputs = torch.tensor(X_val, dtype=torch.float32)\n",
    "val_labels = torch.tensor(y_val, dtype=torch.long)\n",
    "\n",
    "train_dataset = TensorDataset(train_inputs, train_labels)\n",
    "val_dataset = TensorDataset(val_inputs, val_labels)\n",
    "\n",
    "train_loader = DataLoader(train_dataset, batch_size=64, shuffle=True)\n",
    "val_loader = DataLoader(val_dataset, batch_size=64, shuffle=False)\n"
   ]
  },
  {
   "cell_type": "code",
   "execution_count": 15,
   "id": "4e1b5920",
   "metadata": {
    "execution": {
     "iopub.execute_input": "2024-08-14T11:56:05.781269Z",
     "iopub.status.busy": "2024-08-14T11:56:05.780978Z",
     "iopub.status.idle": "2024-08-14T11:56:05.842784Z",
     "shell.execute_reply": "2024-08-14T11:56:05.841924Z"
    },
    "papermill": {
     "duration": 0.074994,
     "end_time": "2024-08-14T11:56:05.844759",
     "exception": false,
     "start_time": "2024-08-14T11:56:05.769765",
     "status": "completed"
    },
    "tags": []
   },
   "outputs": [
    {
     "data": {
      "text/plain": [
       "'cuda'"
      ]
     },
     "execution_count": 15,
     "metadata": {},
     "output_type": "execute_result"
    }
   ],
   "source": [
    "device = \"cuda\" if torch.cuda.is_available() else 'cpu'\n",
    "device"
   ]
  },
  {
   "cell_type": "code",
   "execution_count": 16,
   "id": "d133829a",
   "metadata": {
    "execution": {
     "iopub.execute_input": "2024-08-14T11:56:05.867203Z",
     "iopub.status.busy": "2024-08-14T11:56:05.866732Z",
     "iopub.status.idle": "2024-08-14T11:56:05.877312Z",
     "shell.execute_reply": "2024-08-14T11:56:05.876519Z"
    },
    "papermill": {
     "duration": 0.023826,
     "end_time": "2024-08-14T11:56:05.879193",
     "exception": false,
     "start_time": "2024-08-14T11:56:05.855367",
     "status": "completed"
    },
    "tags": []
   },
   "outputs": [],
   "source": [
    "import torch.nn as nn\n",
    "\n",
    "\n",
    "class ECG_CNN(nn.Module):\n",
    "    def __init__(self, num_classes):\n",
    "        super(ECG_CNN, self).__init__()\n",
    "        self.conv1 = nn.Conv1d(1, 64, kernel_size = 5, stride = 1, padding = 2)\n",
    "        self.conv2 = nn.Conv1d(64, 128, kernel_size = 5, stride = 1, padding = 2)\n",
    "        self.conv3 = nn.Conv1d(128, 256, kernel_size = 5, stride = 1, padding=2)\n",
    "        \n",
    "        self.pool = nn.MaxPool1d(kernel_size = 5, stride = 2)\n",
    "        \n",
    "        self.global_pool = nn.AdaptiveAvgPool1d(20)\n",
    "        \n",
    "        self.fc1 = nn.Linear(256*20, 128)\n",
    "        self.fc2 = nn.Linear(128, num_classes)\n",
    "        \n",
    "        self.dropout = nn.Dropout(0.5)\n",
    "        self.relu = nn.ReLU()\n",
    "        \n",
    "        self.bn1 = nn.BatchNorm1d(64)\n",
    "        self.bn2 = nn.BatchNorm1d(128)\n",
    "        self.bn3 = nn.BatchNorm1d(256)\n",
    "        \n",
    "    def forward(self, x):\n",
    "        x = self.relu(self.bn1(self.conv1(x)))\n",
    "        x = self.pool(x)\n",
    "        \n",
    "        x = self.relu(self.bn2(self.conv2(x)))\n",
    "        x = self.pool(x)\n",
    "        \n",
    "        x = self.relu(self.bn3(self.conv3(x)))\n",
    "        x = self.pool(x)\n",
    "        \n",
    "        x = self.global_pool(x)\n",
    "        x = x.view(x.size(0), -1)\n",
    "        \n",
    "        x = self.dropout(x)\n",
    "        x = self.relu(self.fc1(x))\n",
    "        x = self.fc2(x)\n",
    "        return x\n",
    "    \n"
   ]
  },
  {
   "cell_type": "code",
   "execution_count": 17,
   "id": "dc4ca93f",
   "metadata": {
    "execution": {
     "iopub.execute_input": "2024-08-14T11:56:05.901127Z",
     "iopub.status.busy": "2024-08-14T11:56:05.900865Z",
     "iopub.status.idle": "2024-08-14T11:56:05.940293Z",
     "shell.execute_reply": "2024-08-14T11:56:05.939223Z"
    },
    "papermill": {
     "duration": 0.052895,
     "end_time": "2024-08-14T11:56:05.942412",
     "exception": false,
     "start_time": "2024-08-14T11:56:05.889517",
     "status": "completed"
    },
    "tags": []
   },
   "outputs": [
    {
     "name": "stdout",
     "output_type": "stream",
     "text": [
      "Number of classes: 5\n"
     ]
    }
   ],
   "source": [
    "import numpy as np\n",
    "\n",
    "unique_labels = np.unique(y_train)\n",
    "num_classes = len(unique_labels)\n",
    "\n",
    "print(f\"Number of classes: {num_classes}\")\n",
    "\n",
    "model = ECG_CNN(num_classes)"
   ]
  },
  {
   "cell_type": "code",
   "execution_count": 18,
   "id": "ea396418",
   "metadata": {
    "execution": {
     "iopub.execute_input": "2024-08-14T11:56:05.964818Z",
     "iopub.status.busy": "2024-08-14T11:56:05.964178Z",
     "iopub.status.idle": "2024-08-14T11:58:51.953540Z",
     "shell.execute_reply": "2024-08-14T11:58:51.952523Z"
    },
    "papermill": {
     "duration": 166.013856,
     "end_time": "2024-08-14T11:58:51.966758",
     "exception": false,
     "start_time": "2024-08-14T11:56:05.952902",
     "status": "completed"
    },
    "tags": []
   },
   "outputs": [
    {
     "name": "stdout",
     "output_type": "stream",
     "text": [
      "Epoch [1/20], Loss: 0.1914\n",
      "Epoch [2/20], Loss: 0.1038\n",
      "Epoch [3/20], Loss: 0.0800\n",
      "Epoch [4/20], Loss: 0.0649\n",
      "Epoch [5/20], Loss: 0.0543\n",
      "Epoch [6/20], Loss: 0.0454\n",
      "Epoch [7/20], Loss: 0.0412\n",
      "Epoch [8/20], Loss: 0.0349\n",
      "Epoch [9/20], Loss: 0.0325\n",
      "Epoch [10/20], Loss: 0.0287\n",
      "Epoch [11/20], Loss: 0.0277\n",
      "Epoch [12/20], Loss: 0.0250\n",
      "Epoch [13/20], Loss: 0.0225\n",
      "Epoch [14/20], Loss: 0.0220\n",
      "Epoch [15/20], Loss: 0.0202\n",
      "Epoch [16/20], Loss: 0.0182\n",
      "Epoch [17/20], Loss: 0.0185\n",
      "Epoch [18/20], Loss: 0.0176\n",
      "Epoch [19/20], Loss: 0.0161\n",
      "Epoch [20/20], Loss: 0.0157\n",
      "Training finished!\n"
     ]
    }
   ],
   "source": [
    "import torch\n",
    "import torch.optim as optim\n",
    "import torch.nn as nn\n",
    "\n",
    "criterion = nn.CrossEntropyLoss()\n",
    "optimizer = optim.Adam(model.parameters(), lr = 0.001)\n",
    "\n",
    "num_epochs = 20\n",
    "model.to(device)\n",
    "\n",
    "for epoch in range(num_epochs):\n",
    "    model.train() \n",
    "    running_loss = 0.0\n",
    "    \n",
    "#     train_loader = train_loader.to(device)\n",
    "    for inputs, labels in train_loader:\n",
    "        inputs, labels = inputs.to(device), labels.to(device)\n",
    "        inputs = inputs.unsqueeze(1)\n",
    "        optimizer.zero_grad()\n",
    "        \n",
    "        outputs = model(inputs)\n",
    "        loss = criterion(outputs, labels)\n",
    "        \n",
    "        loss.backward()\n",
    "        optimizer.step()\n",
    "        \n",
    "        running_loss += loss.item()\n",
    "        \n",
    "    print(f'Epoch [{epoch+1}/{num_epochs}], Loss: {running_loss/len(train_loader):.4f}')\n",
    "\n",
    "print(\"Training finished!\")"
   ]
  },
  {
   "cell_type": "code",
   "execution_count": 19,
   "id": "9d776447",
   "metadata": {
    "execution": {
     "iopub.execute_input": "2024-08-14T11:58:51.992772Z",
     "iopub.status.busy": "2024-08-14T11:58:51.991961Z",
     "iopub.status.idle": "2024-08-14T11:58:52.830032Z",
     "shell.execute_reply": "2024-08-14T11:58:52.828842Z"
    },
    "papermill": {
     "duration": 0.853213,
     "end_time": "2024-08-14T11:58:52.832146",
     "exception": false,
     "start_time": "2024-08-14T11:58:51.978933",
     "status": "completed"
    },
    "tags": []
   },
   "outputs": [
    {
     "name": "stdout",
     "output_type": "stream",
     "text": [
      "Validation Accuracy:  99.39%\n"
     ]
    }
   ],
   "source": [
    "model.eval()\n",
    "\n",
    "correct = 0\n",
    "total = 0\n",
    "\n",
    "with torch.no_grad():\n",
    "#     val_loader = val_loader.to(device)\n",
    "    for inputs, labels in val_loader:\n",
    "        inputs, labels = inputs.to(device), labels.to(device)\n",
    "        inputs = inputs.unsqueeze(1)\n",
    "        outputs = model(inputs)\n",
    "        \n",
    "        _, predicted = torch.max(outputs.data, 1)\n",
    "        \n",
    "        total += labels.size(0)\n",
    "        correct += (predicted == labels).sum().item()\n",
    "        \n",
    "accuracy = 100 * correct / total\n",
    "print(f'Validation Accuracy: {accuracy: .2f}%')"
   ]
  },
  {
   "cell_type": "code",
   "execution_count": 20,
   "id": "cf70a28b",
   "metadata": {
    "execution": {
     "iopub.execute_input": "2024-08-14T11:58:52.858819Z",
     "iopub.status.busy": "2024-08-14T11:58:52.857831Z",
     "iopub.status.idle": "2024-08-14T11:58:52.862965Z",
     "shell.execute_reply": "2024-08-14T11:58:52.862135Z"
    },
    "papermill": {
     "duration": 0.020152,
     "end_time": "2024-08-14T11:58:52.864942",
     "exception": false,
     "start_time": "2024-08-14T11:58:52.844790",
     "status": "completed"
    },
    "tags": []
   },
   "outputs": [],
   "source": [
    "X_test = mitbih_test.iloc[:, :-1]\n",
    "y_test = mitbih_test.iloc[:, -1]"
   ]
  },
  {
   "cell_type": "code",
   "execution_count": 21,
   "id": "19302063",
   "metadata": {
    "execution": {
     "iopub.execute_input": "2024-08-14T11:58:52.890322Z",
     "iopub.status.busy": "2024-08-14T11:58:52.890050Z",
     "iopub.status.idle": "2024-08-14T11:58:52.921401Z",
     "shell.execute_reply": "2024-08-14T11:58:52.920421Z"
    },
    "papermill": {
     "duration": 0.046789,
     "end_time": "2024-08-14T11:58:52.923832",
     "exception": false,
     "start_time": "2024-08-14T11:58:52.877043",
     "status": "completed"
    },
    "tags": []
   },
   "outputs": [],
   "source": [
    "X_test = X_test / X_test.max().max()\n",
    "\n",
    "X_test = torch.tensor(X_test.values, dtype = torch.float32).unsqueeze(1)\n",
    "y_test = torch.tensor(y_test.values, dtype = torch.long)"
   ]
  },
  {
   "cell_type": "code",
   "execution_count": 22,
   "id": "941c4d5a",
   "metadata": {
    "execution": {
     "iopub.execute_input": "2024-08-14T11:58:52.950341Z",
     "iopub.status.busy": "2024-08-14T11:58:52.949744Z",
     "iopub.status.idle": "2024-08-14T11:58:53.127870Z",
     "shell.execute_reply": "2024-08-14T11:58:53.126628Z"
    },
    "papermill": {
     "duration": 0.193436,
     "end_time": "2024-08-14T11:58:53.129931",
     "exception": false,
     "start_time": "2024-08-14T11:58:52.936495",
     "status": "completed"
    },
    "tags": []
   },
   "outputs": [
    {
     "name": "stdout",
     "output_type": "stream",
     "text": [
      "Test Accuracy: 98.71%\n"
     ]
    }
   ],
   "source": [
    "model.eval()\n",
    "\n",
    "with torch.no_grad():\n",
    "    X_test, y_test = X_test.to(device), y_test.to(device)\n",
    "    outputs = model(X_test)\n",
    "    _, predicted = torch.max(outputs, 1)\n",
    "    correct = (predicted == y_test).sum().item()\n",
    "    total = y_test.size(0)\n",
    "    test_accuracy = 100 * correct / total\n",
    "    \n",
    "print(f\"Test Accuracy: {test_accuracy:.2f}%\")"
   ]
  },
  {
   "cell_type": "code",
   "execution_count": 23,
   "id": "c251024e",
   "metadata": {
    "execution": {
     "iopub.execute_input": "2024-08-14T11:58:53.156142Z",
     "iopub.status.busy": "2024-08-14T11:58:53.155842Z",
     "iopub.status.idle": "2024-08-14T11:58:53.208496Z",
     "shell.execute_reply": "2024-08-14T11:58:53.207440Z"
    },
    "papermill": {
     "duration": 0.06767,
     "end_time": "2024-08-14T11:58:53.210449",
     "exception": false,
     "start_time": "2024-08-14T11:58:53.142779",
     "status": "completed"
    },
    "tags": []
   },
   "outputs": [
    {
     "name": "stdout",
     "output_type": "stream",
     "text": [
      "              precision    recall  f1-score   support\n",
      "\n",
      "           0       0.99      0.99      0.99     18118\n",
      "           1       0.85      0.84      0.85       556\n",
      "           2       0.98      0.97      0.97      1448\n",
      "           3       0.80      0.89      0.84       162\n",
      "           4       0.99      0.99      0.99      1608\n",
      "\n",
      "    accuracy                           0.99     21892\n",
      "   macro avg       0.92      0.94      0.93     21892\n",
      "weighted avg       0.99      0.99      0.99     21892\n",
      "\n"
     ]
    }
   ],
   "source": [
    "from sklearn.metrics import classification_report\n",
    "\n",
    "predicted = predicted.cpu().numpy()\n",
    "y_test_np = y_test.cpu().numpy()\n",
    "\n",
    "print(classification_report(y_test_np, predicted))"
   ]
  },
  {
   "cell_type": "code",
   "execution_count": 24,
   "id": "39fd604e",
   "metadata": {
    "execution": {
     "iopub.execute_input": "2024-08-14T11:58:53.237294Z",
     "iopub.status.busy": "2024-08-14T11:58:53.236758Z",
     "iopub.status.idle": "2024-08-14T11:58:53.243310Z",
     "shell.execute_reply": "2024-08-14T11:58:53.242471Z"
    },
    "papermill": {
     "duration": 0.022639,
     "end_time": "2024-08-14T11:58:53.245541",
     "exception": false,
     "start_time": "2024-08-14T11:58:53.222902",
     "status": "completed"
    },
    "tags": []
   },
   "outputs": [
    {
     "name": "stdout",
     "output_type": "stream",
     "text": [
      "Misclassification counts by true label: {0: 113, 1: 88, 2: 50, 3: 18, 4: 13}\n"
     ]
    }
   ],
   "source": [
    "import numpy as np\n",
    "\n",
    "misclassified_idxs = np.where(predicted != y_test_np)[0]\n",
    "\n",
    "misclassified_true_labels = y_test_np[misclassified_idxs]\n",
    "unique, counts = np.unique(misclassified_true_labels, return_counts=True)\n",
    "misclassification_counts = dict(zip(unique, counts))\n",
    "\n",
    "print(\"Misclassification counts by true label:\", misclassification_counts)\n"
   ]
  },
  {
   "cell_type": "code",
   "execution_count": 25,
   "id": "6f9fe2d8",
   "metadata": {
    "execution": {
     "iopub.execute_input": "2024-08-14T11:58:53.271506Z",
     "iopub.status.busy": "2024-08-14T11:58:53.271194Z",
     "iopub.status.idle": "2024-08-14T11:58:53.862781Z",
     "shell.execute_reply": "2024-08-14T11:58:53.861726Z"
    },
    "papermill": {
     "duration": 0.607175,
     "end_time": "2024-08-14T11:58:53.865181",
     "exception": false,
     "start_time": "2024-08-14T11:58:53.258006",
     "status": "completed"
    },
    "tags": []
   },
   "outputs": [
    {
     "data": {
      "image/png": "[encoded data removed]",
      "text/plain": [
       "<Figure size 1000x700 with 2 Axes>"
      ]
     },
     "metadata": {},
     "output_type": "display_data"
    }
   ],
   "source": [
    "from sklearn.metrics import confusion_matrix\n",
    "import seaborn as sns\n",
    "import matplotlib.pyplot as plt\n",
    "\n",
    "# Compute confusion matrix\n",
    "cm = confusion_matrix(y_test_np, predicted)\n",
    "\n",
    "# Plot confusion matrix\n",
    "plt.figure(figsize=(10, 7))\n",
    "sns.heatmap(cm, annot=True, fmt='d', cmap='Blues')\n",
    "plt.xlabel('Predicted')\n",
    "plt.ylabel('True')\n",
    "plt.title('Confusion Matrix')\n",
    "plt.show()\n"
   ]
  },
  {
   "cell_type": "code",
   "execution_count": 26,
   "id": "88202018",
   "metadata": {
    "execution": {
     "iopub.execute_input": "2024-08-14T11:58:53.893346Z",
     "iopub.status.busy": "2024-08-14T11:58:53.892563Z",
     "iopub.status.idle": "2024-08-14T11:58:53.929620Z",
     "shell.execute_reply": "2024-08-14T11:58:53.928712Z"
    },
    "papermill": {
     "duration": 0.053082,
     "end_time": "2024-08-14T11:58:53.931677",
     "exception": false,
     "start_time": "2024-08-14T11:58:53.878595",
     "status": "completed"
    },
    "tags": []
   },
   "outputs": [
    {
     "data": {
      "text/plain": [
       "ECG_CNN(\n",
       "  (conv1): Conv1d(1, 64, kernel_size=(5,), stride=(1,), padding=(2,))\n",
       "  (conv2): Conv1d(64, 128, kernel_size=(5,), stride=(1,), padding=(2,))\n",
       "  (conv3): Conv1d(128, 256, kernel_size=(5,), stride=(1,), padding=(2,))\n",
       "  (pool): MaxPool1d(kernel_size=5, stride=2, padding=0, dilation=1, ceil_mode=False)\n",
       "  (global_pool): AdaptiveAvgPool1d(output_size=20)\n",
       "  (fc1): Linear(in_features=5120, out_features=128, bias=True)\n",
       "  (fc2): Linear(in_features=128, out_features=5, bias=True)\n",
       "  (dropout): Dropout(p=0.5, inplace=False)\n",
       "  (relu): ReLU()\n",
       "  (bn1): BatchNorm1d(64, eps=1e-05, momentum=0.1, affine=True, track_running_stats=True)\n",
       "  (bn2): BatchNorm1d(128, eps=1e-05, momentum=0.1, affine=True, track_running_stats=True)\n",
       "  (bn3): BatchNorm1d(256, eps=1e-05, momentum=0.1, affine=True, track_running_stats=True)\n",
       ")"
      ]
     },
     "execution_count": 26,
     "metadata": {},
     "output_type": "execute_result"
    }
   ],
   "source": [
    "torch.save(model.state_dict(), 'ecg_model.pth')\n",
    "\n",
    "loaded_model = ECG_CNN(num_classes)\n",
    "loaded_model.load_state_dict(torch.load('ecg_model.pth'))\n",
    "loaded_model.to(device)"
   ]
  },
  {
   "cell_type": "code",
   "execution_count": null,
   "id": "b432f42b",
   "metadata": {
    "papermill": {
     "duration": 0.012686,
     "end_time": "2024-08-14T11:58:53.957412",
     "exception": false,
     "start_time": "2024-08-14T11:58:53.944726",
     "status": "completed"
    },
    "tags": []
   },
   "outputs": [],
   "source": []
  }
 ],
 "metadata": {
  "kaggle": {
   "accelerator": "gpu",
   "dataSources": [
    {
     "datasetId": 638842,
     "sourceId": 1134513,
     "sourceType": "datasetVersion"
    }
   ],
   "dockerImageVersionId": 30746,
   "isGpuEnabled": true,
   "isInternetEnabled": true,
   "language": "python",
   "sourceType": "notebook"
  },
  "kernelspec": {
   "display_name": "Python 3",
   "language": "python",
   "name": "python3"
  },
  "language_info": {
   "codemirror_mode": {
    "name": "ipython",
    "version": 3
   },
   "file_extension": ".py",
   "mimetype": "text/x-python",
   "name": "python",
   "nbconvert_exporter": "python",
   "pygments_lexer": "ipython3",
   "version": "3.10.13"
  },
  "papermill": {
   "default_parameters": {},
   "duration": 194.292771,
   "end_time": "2024-08-14T11:58:56.165824",
   "environment_variables": {},
   "exception": null,
   "input_path": "__notebook__.ipynb",
   "output_path": "__notebook__.ipynb",
   "parameters": {},
   "start_time": "2024-08-14T11:55:41.873053",
   "version": "2.5.0"
  }
 },
 "nbformat": 4,
 "nbformat_minor": 5
}
